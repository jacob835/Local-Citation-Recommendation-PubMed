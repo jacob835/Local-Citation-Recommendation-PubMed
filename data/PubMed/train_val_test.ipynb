{
 "cells": [
  {
   "cell_type": "code",
   "execution_count": 5,
   "metadata": {},
   "outputs": [
    {
     "name": "stdout",
     "output_type": "stream",
     "text": [
      "The file has 85861 elements.\n"
     ]
    }
   ],
   "source": [
    "import json\n",
    "\n",
    "# Load the JSON file\n",
    "with open('contexts.json', 'r') as file:\n",
    "    data = json.load(file)\n",
    "\n",
    "# Count the elements\n",
    "element_count = len(data)\n",
    "\n",
    "print(f\"The file has {element_count} elements.\")\n"
   ]
  },
  {
   "cell_type": "code",
   "execution_count": 3,
   "metadata": {},
   "outputs": [
    {
     "data": {
      "text/plain": [
       "60102.7"
      ]
     },
     "execution_count": 3,
     "metadata": {},
     "output_type": "execute_result"
    }
   ],
   "source": [
    "85861*0.7"
   ]
  },
  {
   "cell_type": "code",
   "execution_count": 4,
   "metadata": {},
   "outputs": [
    {
     "data": {
      "text/plain": [
       "72981.84999999999"
      ]
     },
     "execution_count": 4,
     "metadata": {},
     "output_type": "execute_result"
    }
   ],
   "source": [
    "85861*0.7+85861*0.15"
   ]
  },
  {
   "cell_type": "code",
   "execution_count": 9,
   "metadata": {},
   "outputs": [
    {
     "name": "stdout",
     "output_type": "stream",
     "text": [
      "Element number 72983:\n",
      "{\n",
      "    \"masked_text\": \"morphisms arise from specific deletion patterns. The genes affected by the deletions have important roles in the biology of these organisms (OTHERCIT). Since, deletions tend to be irreversible events (TARGETCIT,OTHERCIT), the pattern of deletions can be used to deduce the phylogeny of the mycobacteria. The distribution of deletions suggests that Mycobacterium tuberculosis H37Rv has not originated from M. bov\",\n",
      "    \"context_id\": \"17488849_11282970_0\",\n",
      "    \"citing_id\": \"17488849\",\n",
      "    \"refid\": \"11282970\"\n",
      "}\n"
     ]
    }
   ],
   "source": [
    "# Convert dictionary to list to access elements by index\n",
    "data_list = list(data.values())\n",
    "\n",
    "# Find the 60102nd element (index 60101 since list indices start at 0)\n",
    "element_index = 72982\n",
    "\n",
    "if element_index < len(data_list):\n",
    "    element = data_list[element_index]\n",
    "    print(f\"Element number {element_index + 1}:\")\n",
    "    print(json.dumps(element, indent=4))\n",
    "else:\n",
    "    print(f\"No element at index {element_index}. The file has only {len(data_list)} elements.\")\n"
   ]
  },
  {
   "cell_type": "markdown",
   "metadata": {},
   "source": [
    "## train.json. artikler fra dec 1997 til og med april 2007"
   ]
  },
  {
   "cell_type": "code",
   "execution_count": 8,
   "metadata": {},
   "outputs": [
    {
     "name": "stdout",
     "output_type": "stream",
     "text": [
      "Contexts up to, but not including citing_id 17286802 have been saved to train.json.\n"
     ]
    }
   ],
   "source": [
    "import json\n",
    "\n",
    "# Paths to the JSON files\n",
    "input_file_path = '/Users/jacobhessels/KU/bachelor/src/contexts.json'\n",
    "output_file_path = '/Users/jacobhessels/KU/bachelor/src/train.json'\n",
    "\n",
    "# Read the JSON data from the input file\n",
    "with open(input_file_path, 'r') as file:\n",
    "    data = json.load(file)\n",
    "\n",
    "# Create a new dictionary to hold the extracted contexts\n",
    "train_data = {}\n",
    "\n",
    "# Copy contexts up to, but not including, citing_id 17286802\n",
    "for key, value in data.items():\n",
    "    if value['citing_id'] == \"17286802\":\n",
    "        break\n",
    "    train_data[key] = value\n",
    "\n",
    "# Write the extracted contexts to the output file\n",
    "with open(output_file_path, 'w') as file:\n",
    "    json.dump(train_data, file, indent=4)\n",
    "\n",
    "print(\"Contexts up to, but not including citing_id 17286802 have been saved to train.json.\")\n"
   ]
  },
  {
   "cell_type": "markdown",
   "metadata": {},
   "source": [
    "## val.json. artikler fra maj 2007 til og med jun 2007"
   ]
  },
  {
   "cell_type": "code",
   "execution_count": 10,
   "metadata": {},
   "outputs": [
    {
     "name": "stdout",
     "output_type": "stream",
     "text": [
      "Contexts from citing_id 17286802 to 17710201 have been saved to val.json.\n"
     ]
    }
   ],
   "source": [
    "import json\n",
    "\n",
    "# Paths to the JSON files\n",
    "input_file_path = '/Users/jacobhessels/KU/bachelor/src/contexts.json'\n",
    "output_file_path = '/Users/jacobhessels/KU/bachelor/src/val.json'\n",
    "\n",
    "# Read the JSON data from the input file\n",
    "with open(input_file_path, 'r') as file:\n",
    "    data = json.load(file)\n",
    "\n",
    "# Create a new dictionary to hold the extracted contexts\n",
    "val_data = {}\n",
    "\n",
    "# Flag to indicate if we are within the desired range\n",
    "within_range = False\n",
    "\n",
    "# Copy contexts with citing_id from 17286802 to 17710201 inclusive\n",
    "for key, value in data.items():\n",
    "    if value['citing_id'] == \"17286802\":\n",
    "        within_range = True\n",
    "    if within_range:\n",
    "        val_data[key] = value\n",
    "    if value['citing_id'] == \"17710201\":\n",
    "        break\n",
    "\n",
    "# Write the extracted contexts to the output file\n",
    "with open(output_file_path, 'w') as file:\n",
    "    json.dump(val_data, file, indent=4)\n",
    "\n",
    "print(\"Contexts from citing_id 17286802 to 17710201 have been saved to val.json.\")\n"
   ]
  },
  {
   "cell_type": "markdown",
   "metadata": {},
   "source": [
    "## test.json. artikler fra jul 2007 til og med sep 2007"
   ]
  },
  {
   "cell_type": "code",
   "execution_count": 12,
   "metadata": {},
   "outputs": [
    {
     "name": "stdout",
     "output_type": "stream",
     "text": [
      "Contexts after citing_id 17710201 have been saved to test.json.\n"
     ]
    }
   ],
   "source": [
    "import json\n",
    "\n",
    "# Paths to the JSON files\n",
    "input_file_path = '/Users/jacobhessels/KU/bachelor/src/contexts.json'\n",
    "test_file_path = '/Users/jacobhessels/KU/bachelor/src/test.json'\n",
    "\n",
    "# Read the JSON data from the input file\n",
    "with open(input_file_path, 'r') as file:\n",
    "    data = json.load(file)\n",
    "\n",
    "# Create a new dictionary to hold the extracted contexts\n",
    "test_data = {}\n",
    "\n",
    "# Flag to indicate if we are after the desired range\n",
    "after_range = False\n",
    "\n",
    "# Copy contexts with citing_id after 17710201\n",
    "for key, value in data.items():\n",
    "    if value['citing_id'] == \"17710201\":\n",
    "        after_range = True\n",
    "        continue\n",
    "    if after_range:\n",
    "        test_data[key] = value\n",
    "\n",
    "# Write the extracted contexts to the output file\n",
    "with open(test_file_path, 'w') as file:\n",
    "    json.dump(test_data, file, indent=4)\n",
    "\n",
    "print(\"Contexts after citing_id 17710201 have been saved to test.json.\")\n"
   ]
  },
  {
   "cell_type": "code",
   "execution_count": 15,
   "metadata": {},
   "outputs": [
    {
     "name": "stdout",
     "output_type": "stream",
     "text": [
      "Transformed data written to test.json\n"
     ]
    }
   ],
   "source": [
    "import json\n",
    "\n",
    "# File paths\n",
    "input_file = '/Users/jacobhessels/KU/bachelor/src/test.json'\n",
    "output_file = 'test.json'\n",
    "\n",
    "# Reading the original JSON data\n",
    "with open(input_file, 'r') as f:\n",
    "    data = json.load(f)\n",
    "\n",
    "# Transforming the data\n",
    "train_data = [{\n",
    "    \"context_id\": item['context_id'],\n",
    "    \"positive_ids\": [item['refid']]\n",
    "} for item in data.values()]\n",
    "\n",
    "# Writing the transformed data to train.json\n",
    "with open(output_file, 'w') as f:\n",
    "    json.dump(train_data, f, indent=4)\n",
    "\n",
    "print(f\"Transformed data written to {output_file}\")\n"
   ]
  },
  {
   "cell_type": "code",
   "execution_count": null,
   "metadata": {},
   "outputs": [],
   "source": []
  }
 ],
 "metadata": {
  "kernelspec": {
   "display_name": "base",
   "language": "python",
   "name": "python3"
  },
  "language_info": {
   "codemirror_mode": {
    "name": "ipython",
    "version": 3
   },
   "file_extension": ".py",
   "mimetype": "text/x-python",
   "name": "python",
   "nbconvert_exporter": "python",
   "pygments_lexer": "ipython3",
   "version": "3.10.9"
  }
 },
 "nbformat": 4,
 "nbformat_minor": 2
}
