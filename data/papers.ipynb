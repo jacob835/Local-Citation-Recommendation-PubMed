{
 "cells": [
  {
   "cell_type": "code",
   "execution_count": 3,
   "metadata": {},
   "outputs": [
    {
     "name": "stderr",
     "output_type": "stream",
     "text": [
      "Processing XML files:   0%|          | 0/3524 [00:00<?, ?it/s]"
     ]
    },
    {
     "name": "stderr",
     "output_type": "stream",
     "text": [
      "Processing XML files: 100%|██████████| 3524/3524 [00:15<00:00, 224.62it/s]\n"
     ]
    },
    {
     "name": "stdout",
     "output_type": "stream",
     "text": [
      "Extracted data has been written to /Users/jacobhessels/KU/bachelor/src/comm/PMC011_600/refids/papers.json\n"
     ]
    }
   ],
   "source": [
    "import os\n",
    "import xml.etree.ElementTree as ET\n",
    "import json\n",
    "from tqdm import tqdm\n",
    "\n",
    "# Path to your directory containing XML files\n",
    "DIR_PATH = \"/Users/jacobhessels/KU/bachelor/src/comm/PMC011_600/refids/data\"\n",
    "OUTPUT_FILE = \"/Users/jacobhessels/KU/bachelor/src/comm/PMC011_600/refids/papers.json\"\n",
    "\n",
    "# Function to extract all text within an element, including text in child elements\n",
    "def extract_text(element):\n",
    "    return ''.join(element.itertext()).strip()\n",
    "\n",
    "# Function to extract title, abstract, and PMID from an XML file\n",
    "def extract_article_info(file_path):\n",
    "    try:\n",
    "        tree = ET.parse(file_path)\n",
    "        root = tree.getroot()\n",
    "\n",
    "        # Extract PMID\n",
    "        pmid_element = root.find('.//article-id[@pub-id-type=\"pmid\"]')\n",
    "        pmid = pmid_element.text.strip() if pmid_element is not None else None\n",
    "\n",
    "        if pmid is None:\n",
    "            # print(f\"Skipping article with no PMID: {file_path}\")\n",
    "            return None\n",
    "\n",
    "        # Extract title\n",
    "        title_element = root.find('.//article-title')\n",
    "        title = extract_text(title_element) if title_element is not None else 'No title found'\n",
    "\n",
    "        # Extract abstract\n",
    "        abstract_element = root.find('.//abstract')\n",
    "        abstract = extract_text(abstract_element) if abstract_element is not None else 'No abstract found'\n",
    "\n",
    "        return {pmid: {\"title\": title, \"abstract\": abstract}}\n",
    "    except ET.ParseError:\n",
    "        # print(f\"Skipping invalid XML file: {file_path}\")\n",
    "        return None\n",
    "\n",
    "# Collect all articles' information\n",
    "articles = {}\n",
    "\n",
    "# Iterate through all XML files in the directory and extract information\n",
    "xml_files = [f for f in os.listdir(DIR_PATH) if f.endswith(('.xml', '.nxml'))]\n",
    "\n",
    "for file_name in tqdm(xml_files, desc=\"Processing XML files\"):\n",
    "    file_path = os.path.join(DIR_PATH, file_name)\n",
    "    article_info = extract_article_info(file_path)\n",
    "    if article_info:  # Only add if article_info is not None\n",
    "        articles.update(article_info)\n",
    "\n",
    "# Write the collected data to a JSON file\n",
    "with open(OUTPUT_FILE, 'w') as json_file:\n",
    "    json.dump(articles, json_file, indent=4)\n",
    "\n",
    "print(f\"Extracted data has been written to {OUTPUT_FILE}\")\n"
   ]
  }
 ],
 "metadata": {
  "kernelspec": {
   "display_name": "base",
   "language": "python",
   "name": "python3"
  },
  "language_info": {
   "codemirror_mode": {
    "name": "ipython",
    "version": 3
   },
   "file_extension": ".py",
   "mimetype": "text/x-python",
   "name": "python",
   "nbconvert_exporter": "python",
   "pygments_lexer": "ipython3",
   "version": "3.10.9"
  }
 },
 "nbformat": 4,
 "nbformat_minor": 2
}
