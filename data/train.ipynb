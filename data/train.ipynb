{
 "cells": [
  {
   "cell_type": "code",
   "execution_count": 1,
   "metadata": {},
   "outputs": [
    {
     "name": "stdout",
     "output_type": "stream",
     "text": [
      "The file has 10910 elements.\n"
     ]
    }
   ],
   "source": [
    "import json\n",
    "\n",
    "# Load the JSON file\n",
    "with open('/Users/jacobhessels/KU/bachelor/src/comm/PMC011_600/refids/merge/delete/contexts.json', 'r') as file:\n",
    "    data = json.load(file)\n",
    "\n",
    "# Count the elements\n",
    "element_count = len(data)\n",
    "\n",
    "print(f\"The file has {element_count} elements.\")\n"
   ]
  },
  {
   "cell_type": "markdown",
   "metadata": {},
   "source": [
    "## Sort contexts acording to citing id in ascending order."
   ]
  },
  {
   "cell_type": "code",
   "execution_count": 3,
   "metadata": {},
   "outputs": [
    {
     "name": "stdout",
     "output_type": "stream",
     "text": [
      "Sorted contexts have been written to /Users/jacobhessels/KU/bachelor/src/comm/PMC011_600/refids/merge/delete/contexts.json\n"
     ]
    }
   ],
   "source": [
    "import json\n",
    "import os\n",
    "\n",
    "# Paths to your files\n",
    "contexts_path = \"/Users/jacobhessels/KU/bachelor/src/comm/PMC011_600/refids/merge/delete/contexts.json\"\n",
    "sorted_contexts_path = \"/Users/jacobhessels/KU/bachelor/src/comm/PMC011_600/refids/merge/delete/contexts.json\"\n",
    "\n",
    "def sort_contexts_by_citing_id(contexts_path, sorted_contexts_path):\n",
    "    # Load contexts.json\n",
    "    with open(contexts_path, 'r') as file:\n",
    "        contexts = json.load(file)\n",
    "\n",
    "    # Sort contexts by citing_id in descending order\n",
    "    sorted_contexts = {k: v for k, v in sorted(contexts.items(), key=lambda item: item[1]['citing_id'])}\n",
    "\n",
    "    # Write sorted contexts to a new file\n",
    "    os.makedirs(os.path.dirname(sorted_contexts_path), exist_ok=True)\n",
    "    with open(sorted_contexts_path, 'w') as file:\n",
    "        json.dump(sorted_contexts, file, indent=4)\n",
    "\n",
    "    print(f\"Sorted contexts have been written to {sorted_contexts_path}\")\n",
    "\n",
    "# Call the function\n",
    "sort_contexts_by_citing_id(contexts_path, sorted_contexts_path)\n"
   ]
  },
  {
   "cell_type": "markdown",
   "metadata": {},
   "source": [
    "## Split into train, val and test sets."
   ]
  },
  {
   "cell_type": "code",
   "execution_count": 4,
   "metadata": {},
   "outputs": [
    {
     "name": "stdout",
     "output_type": "stream",
     "text": [
      "Data has been split and saved to:\n",
      "/Users/jacobhessels/KU/bachelor/src/comm/PMC011_600/refids/merge/delete/train.json\n",
      "/Users/jacobhessels/KU/bachelor/src/comm/PMC011_600/refids/merge/delete/val.json\n",
      "/Users/jacobhessels/KU/bachelor/src/comm/PMC011_600/refids/merge/delete/test.json\n"
     ]
    }
   ],
   "source": [
    "import json\n",
    "import os\n",
    "\n",
    "# Path to your contexts.json file\n",
    "contexts_path = \"/Users/jacobhessels/KU/bachelor/src/comm/PMC011_600/refids/merge/delete/contexts.json\"\n",
    "\n",
    "# Paths for the output files\n",
    "train_path = \"/Users/jacobhessels/KU/bachelor/src/comm/PMC011_600/refids/merge/delete/train.json\"\n",
    "val_path = \"/Users/jacobhessels/KU/bachelor/src/comm/PMC011_600/refids/merge/delete/val.json\"\n",
    "test_path = \"/Users/jacobhessels/KU/bachelor/src/comm/PMC011_600/refids/merge/delete/test.json\"\n",
    "\n",
    "def split_contexts(contexts_path, train_path, val_path, test_path, train_ratio=0.7, val_ratio=0.15, test_ratio=0.15):\n",
    "    # Load contexts.json\n",
    "    with open(contexts_path, 'r') as file:\n",
    "        contexts = json.load(file)\n",
    "\n",
    "    # Convert the dictionary to a list of tuples\n",
    "    contexts_list = list(contexts.items())\n",
    "\n",
    "    # Calculate split indices\n",
    "    total = len(contexts_list)\n",
    "    train_end = int(total * train_ratio)\n",
    "    val_end = train_end + int(total * val_ratio)\n",
    "\n",
    "    # Split the data\n",
    "    train_data = dict(contexts_list[:train_end])\n",
    "    val_data = dict(contexts_list[train_end:val_end])\n",
    "    test_data = dict(contexts_list[val_end:])\n",
    "\n",
    "    # Function to write data to a file\n",
    "    def write_json(data, path):\n",
    "        os.makedirs(os.path.dirname(path), exist_ok=True)\n",
    "        with open(path, 'w') as file:\n",
    "            json.dump(data, file, indent=4)\n",
    "\n",
    "    # Write the splits to their respective files\n",
    "    write_json(train_data, train_path)\n",
    "    write_json(val_data, val_path)\n",
    "    write_json(test_data, test_path)\n",
    "\n",
    "    print(f\"Data has been split and saved to:\\n{train_path}\\n{val_path}\\n{test_path}\")\n",
    "\n",
    "# Call the function to split the data\n",
    "split_contexts(contexts_path, train_path, val_path, test_path)\n"
   ]
  },
  {
   "cell_type": "markdown",
   "metadata": {},
   "source": [
    "## Transform data to desired structure"
   ]
  },
  {
   "cell_type": "code",
   "execution_count": 1,
   "metadata": {},
   "outputs": [
    {
     "name": "stdout",
     "output_type": "stream",
     "text": [
      "Converted data has been written to /Users/jacobhessels/KU/bachelor/src/comm/PMC011_600/refids/merge/delete/train.json\n",
      "Converted data has been written to /Users/jacobhessels/KU/bachelor/src/comm/PMC011_600/refids/merge/delete/val.json\n",
      "Converted data has been written to /Users/jacobhessels/KU/bachelor/src/comm/PMC011_600/refids/merge/delete/test.json\n"
     ]
    }
   ],
   "source": [
    "import json\n",
    "import os\n",
    "\n",
    "# Paths for the input and output files\n",
    "input_files = {\n",
    "    \"train\": \"/Users/jacobhessels/KU/bachelor/src/comm/PMC011_600/refids/merge/delete/train.json\",\n",
    "    \"val\": \"/Users/jacobhessels/KU/bachelor/src/comm/PMC011_600/refids/merge/delete/val.json\",\n",
    "    \"test\": \"/Users/jacobhessels/KU/bachelor/src/comm/PMC011_600/refids/merge/delete/test.json\"\n",
    "}\n",
    "\n",
    "output_files = {\n",
    "    \"train\": \"/Users/jacobhessels/KU/bachelor/src/comm/PMC011_600/refids/merge/delete/train.json\",\n",
    "    \"val\": \"/Users/jacobhessels/KU/bachelor/src/comm/PMC011_600/refids/merge/delete/val.json\",\n",
    "    \"test\": \"/Users/jacobhessels/KU/bachelor/src/comm/PMC011_600/refids/merge/delete/test.json\"\n",
    "}\n",
    "\n",
    "def convert_structure(input_path, output_path):\n",
    "    with open(input_path, 'r') as file:\n",
    "        data = json.load(file)\n",
    "    \n",
    "    converted_data = [\n",
    "        {\"context_id\": key, \"positive_ids\": [value[\"refid\"]]}\n",
    "        for key, value in data.items()\n",
    "    ]\n",
    "    \n",
    "    os.makedirs(os.path.dirname(output_path), exist_ok=True)\n",
    "    with open(output_path, 'w') as file:\n",
    "        json.dump(converted_data, file, indent=4)\n",
    "\n",
    "    print(f\"Converted data has been written to {output_path}\")\n",
    "\n",
    "# Convert the structure for each file\n",
    "for key in input_files:\n",
    "    convert_structure(input_files[key], output_files[key])\n"
   ]
  }
 ],
 "metadata": {
  "kernelspec": {
   "display_name": "base",
   "language": "python",
   "name": "python3"
  },
  "language_info": {
   "codemirror_mode": {
    "name": "ipython",
    "version": 3
   },
   "file_extension": ".py",
   "mimetype": "text/x-python",
   "name": "python",
   "nbconvert_exporter": "python",
   "pygments_lexer": "ipython3",
   "version": "3.10.9"
  }
 },
 "nbformat": 4,
 "nbformat_minor": 2
}
