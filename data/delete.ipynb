{
 "cells": [
  {
   "cell_type": "code",
   "execution_count": 1,
   "metadata": {},
   "outputs": [
    {
     "name": "stdout",
     "output_type": "stream",
     "text": [
      "Filtered contexts have been written to /Users/jacobhessels/KU/bachelor/src/comm/PMC011_600/refids/merge/delete/contexts.json\n"
     ]
    }
   ],
   "source": [
    "import json\n",
    "import os\n",
    "\n",
    "# Paths to your files\n",
    "contexts_path = \"/Users/jacobhessels/KU/bachelor/src/comm/PMC011_600/refids/merge/contexts.json\"\n",
    "papers_path = \"/Users/jacobhessels/KU/bachelor/src/comm/PMC011_600/refids/merge/papers.json\"\n",
    "output_path = \"/Users/jacobhessels/KU/bachelor/src/comm/PMC011_600/refids/merge/delete/contexts.json\"\n",
    "\n",
    "def filter_contexts(contexts_path, papers_path, output_path):\n",
    "    # Load contexts.json\n",
    "    with open(contexts_path, 'r') as file:\n",
    "        contexts = json.load(file)\n",
    "\n",
    "    # Load papers.json\n",
    "    with open(papers_path, 'r') as file:\n",
    "        papers = json.load(file)\n",
    "\n",
    "    # Extract keys from papers.json for quick lookup\n",
    "    paper_ids = set(papers.keys())\n",
    "\n",
    "    # Filter contexts\n",
    "    filtered_contexts = {key: value for key, value in contexts.items() if value['citing_id'] in paper_ids and value['refid'] in paper_ids}\n",
    "\n",
    "    # Write filtered contexts to the new file\n",
    "    os.makedirs(os.path.dirname(output_path), exist_ok=True)\n",
    "    with open(output_path, 'w') as file:\n",
    "        json.dump(filtered_contexts, file, indent=4)\n",
    "\n",
    "    print(f\"Filtered contexts have been written to {output_path}\")\n",
    "\n",
    "# Call the function\n",
    "filter_contexts(contexts_path, papers_path, output_path)\n"
   ]
  }
 ],
 "metadata": {
  "kernelspec": {
   "display_name": "base",
   "language": "python",
   "name": "python3"
  },
  "language_info": {
   "codemirror_mode": {
    "name": "ipython",
    "version": 3
   },
   "file_extension": ".py",
   "mimetype": "text/x-python",
   "name": "python",
   "nbconvert_exporter": "python",
   "pygments_lexer": "ipython3",
   "version": "3.10.9"
  }
 },
 "nbformat": 4,
 "nbformat_minor": 2
}
