{
 "cells": [
  {
   "cell_type": "code",
   "execution_count": 5,
   "metadata": {},
   "outputs": [],
   "source": [
    "import json\n",
    "\n",
    "def merge_json_files(file1, file2, output_file):\n",
    "    # Load the first JSON file\n",
    "    with open(file1, 'r') as f1:\n",
    "        data1 = json.load(f1)\n",
    "    \n",
    "    # Load the second JSON file\n",
    "    with open(file2, 'r') as f2:\n",
    "        data2 = json.load(f2)\n",
    "    \n",
    "    # Merge the two dictionaries\n",
    "    merged_data = {**data1, **data2}\n",
    "    \n",
    "    # Write the merged dictionary to a new JSON file\n",
    "    with open(output_file, 'w') as f_out:\n",
    "        json.dump(merged_data, f_out, indent=4)\n"
   ]
  },
  {
   "cell_type": "code",
   "execution_count": 7,
   "metadata": {},
   "outputs": [],
   "source": [
    "# Example usage\n",
    "file1 = '/Users/jacobhessels/KU/bachelor/src/comm/PMC011_600/papers.json'\n",
    "file2 = '/Users/jacobhessels/KU/bachelor/src/comm/PMC011_600/refids/papers.json'\n",
    "output_file = '/Users/jacobhessels/KU/bachelor/src/comm/PMC011_600/refids/merge/papers.json'\n",
    "\n",
    "merge_json_files(file1, file2, output_file)"
   ]
  }
 ],
 "metadata": {
  "kernelspec": {
   "display_name": "base",
   "language": "python",
   "name": "python3"
  },
  "language_info": {
   "codemirror_mode": {
    "name": "ipython",
    "version": 3
   },
   "file_extension": ".py",
   "mimetype": "text/x-python",
   "name": "python",
   "nbconvert_exporter": "python",
   "pygments_lexer": "ipython3",
   "version": "3.10.9"
  }
 },
 "nbformat": 4,
 "nbformat_minor": 2
}
